{
 "cells": [
  {
   "cell_type": "code",
   "execution_count": 1,
   "metadata": {},
   "outputs": [
    {
     "name": "stdout",
     "output_type": "stream",
     "text": [
      "Please enter the emailadress of your account: jannis.born@gmx.de\n",
      "Please enter the password of your account: ········\n"
     ]
    }
   ],
   "source": [
    "import sys, os, argparse, re, getpass, time\n",
    "import numpy as np \n",
    "\n",
    "#from class_digit_keyboard import typing\n",
    "from selenium import webdriver\n",
    "from selenium.webdriver.firefox.firefox_binary import FirefoxBinary\n",
    "from selenium.common.exceptions import NoSuchElementException\n",
    "from selenium.webdriver.support.ui import Select\n",
    "from selenium.webdriver.common.keys import Keys\n",
    "\n",
    "\n",
    "\n",
    "\n",
    "geckoP = '//geckodriver'\n",
    "browser = webdriver.Firefox(executable_path=os.getcwd()+geckoP)\n",
    "\n",
    "browser.get('http://www.messenger.com')\n",
    "\n",
    "while True:\n",
    "\n",
    "\tt = browser.find_element_by_id('email')\n",
    "\temail = str(input(\"Please enter the emailadress of your account: \"))\n",
    "\tt.send_keys(email)\n",
    "\tt = browser.find_element_by_id('pass')\n",
    "\tpw = str(getpass.getpass(\"Please enter the password of your account: \"))\n",
    "\tt.send_keys(pw)\n",
    "\tt.send_keys(Keys.RETURN)\n",
    "\n",
    "\t# Check whether login succesful\n",
    "\ttime.sleep(5)\n",
    "\ttry:\n",
    "\t\ta = browser.find_element_by_id('email') \n",
    "\texcept NoSuchElementException:\n",
    "\t\tbreak\n",
    "\tprint('Password wrong, try again!')\n",
    "\tcontinue\n"
   ]
  },
  {
   "cell_type": "code",
   "execution_count": null,
   "metadata": {},
   "outputs": [],
   "source": [
    "\n",
    "browser.get('http://www.messenger.com/new')\n",
    "#search_mask = browser.find_elements_by_class_name('_58al')\n",
    "friend_name = str(input(\"Please enter the name of the friend you want to write: \"))\n",
    "search_mask.send_keys(friend_name)\n",
    "time.sleep(3)\n",
    "\n",
    "text_field = browser.find_elements_by_class_name('_1mf _1mj')\n",
    "text = str(input(\"Please enter the message to your friend: \"))\n",
    "\n",
    "text_field.send_keys(text)\n"
   ]
  },
  {
   "cell_type": "code",
   "execution_count": 6,
   "metadata": {},
   "outputs": [
    {
     "name": "stdout",
     "output_type": "stream",
     "text": [
      "[<selenium.webdriver.firefox.webelement.FirefoxWebElement (session=\"9b727b88-5b77-4349-8ae8-f3857c58a57b\", element=\"b7abc048-9fb7-3241-992d-3e1496c29b48\")>, <selenium.webdriver.firefox.webelement.FirefoxWebElement (session=\"9b727b88-5b77-4349-8ae8-f3857c58a57b\", element=\"5167aeda-92ec-1b45-a439-8d613d0c3578\")>, <selenium.webdriver.firefox.webelement.FirefoxWebElement (session=\"9b727b88-5b77-4349-8ae8-f3857c58a57b\", element=\"a7bd14a8-8c17-d642-8447-2949b6561e17\")>, <selenium.webdriver.firefox.webelement.FirefoxWebElement (session=\"9b727b88-5b77-4349-8ae8-f3857c58a57b\", element=\"6c8598cc-476b-f441-8505-4fc07d1a61e9\")>, <selenium.webdriver.firefox.webelement.FirefoxWebElement (session=\"9b727b88-5b77-4349-8ae8-f3857c58a57b\", element=\"fce51c11-a3d7-774b-bc76-489cfd0a8f6c\")>, <selenium.webdriver.firefox.webelement.FirefoxWebElement (session=\"9b727b88-5b77-4349-8ae8-f3857c58a57b\", element=\"644c0418-ce00-3e42-8dc9-d0666751212f\")>, <selenium.webdriver.firefox.webelement.FirefoxWebElement (session=\"9b727b88-5b77-4349-8ae8-f3857c58a57b\", element=\"b4d33e82-4855-7f4f-9263-7e8ba1bdeb75\")>, <selenium.webdriver.firefox.webelement.FirefoxWebElement (session=\"9b727b88-5b77-4349-8ae8-f3857c58a57b\", element=\"5fdd9f08-6362-b14c-943a-28f58d01f13c\")>, <selenium.webdriver.firefox.webelement.FirefoxWebElement (session=\"9b727b88-5b77-4349-8ae8-f3857c58a57b\", element=\"40ce4788-af5c-b441-8f73-a07b803c5178\")>, <selenium.webdriver.firefox.webelement.FirefoxWebElement (session=\"9b727b88-5b77-4349-8ae8-f3857c58a57b\", element=\"426efd21-97e0-6145-8b58-79717aff095d\")>, <selenium.webdriver.firefox.webelement.FirefoxWebElement (session=\"9b727b88-5b77-4349-8ae8-f3857c58a57b\", element=\"0b8a18c4-4ffd-7c46-a02c-1f5f84a9d325\")>, <selenium.webdriver.firefox.webelement.FirefoxWebElement (session=\"9b727b88-5b77-4349-8ae8-f3857c58a57b\", element=\"fdec0a95-3a6e-b347-8cc2-c951442da520\")>]\n"
     ]
    }
   ],
   "source": [
    "search_mask = browser.find_elements_by_class_name('_30yy')\n",
    "print(search_mask)"
   ]
  },
  {
   "cell_type": "code",
   "execution_count": null,
   "metadata": {},
   "outputs": [],
   "source": [
    "editButton = browser.find_elements_by_xpath(\"//td[@class='view-col col-actions']//ul[@class='list-inline bottomless']//li//button[@class='btn btn-link btn-xs quick-edit']\")\n"
   ]
  }
 ],
 "metadata": {
  "kernelspec": {
   "display_name": "Python 3",
   "language": "python",
   "name": "python3"
  },
  "language_info": {
   "codemirror_mode": {
    "name": "ipython",
    "version": 3
   },
   "file_extension": ".py",
   "mimetype": "text/x-python",
   "name": "python",
   "nbconvert_exporter": "python",
   "pygments_lexer": "ipython3",
   "version": "3.6.4"
  }
 },
 "nbformat": 4,
 "nbformat_minor": 2
}
