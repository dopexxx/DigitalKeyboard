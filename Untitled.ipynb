{
 "cells": [
  {
   "cell_type": "code",
   "execution_count": 1,
   "metadata": {},
   "outputs": [
    {
     "name": "stdout",
     "output_type": "stream",
     "text": [
      "Please enter the emailadress of your account: jannis.born@gmx.de\n",
      "Please enter the password of your account: ········\n"
     ]
    }
   ],
   "source": [
    "import sys, os, argparse, re, getpass, time\n",
    "import numpy as np \n",
    "\n",
    "#from class_digit_keyboard import typing\n",
    "from selenium import webdriver\n",
    "from selenium.webdriver.firefox.firefox_binary import FirefoxBinary\n",
    "from selenium.common.exceptions import NoSuchElementException\n",
    "from selenium.webdriver.support.ui import Select\n",
    "from selenium.webdriver.common.keys import Keys\n",
    "\n",
    "\n",
    "\n",
    "\n",
    "geckoP = '//geckodriver'\n",
    "profile_path_j = '/Firefox_Profiles/Jannis'\n",
    "profile = webdriver.FirefoxProfile(os.getcwd()+profile_path_j)\n",
    "browser = webdriver.Firefox(profile,executable_path=os.getcwd()+geckoP)\n",
    "\n",
    "browser.get('http://www.facebook.com')\n",
    "\n",
    "while True:\n",
    "\n",
    "\tt = browser.find_element_by_id('email')\n",
    "\temail = str(input(\"Please enter the emailadress of your account: \"))\n",
    "\tt.send_keys(email)\n",
    "\tt = browser.find_element_by_id('pass')\n",
    "\tpw = str(getpass.getpass(\"Please enter the password of your account: \"))\n",
    "\tt.send_keys(pw)\n",
    "\tt.send_keys(Keys.RETURN)\n",
    "\n",
    "\t# Check whether login succesful\n",
    "\ttime.sleep(5)\n",
    "\ttry:\n",
    "\t\ta = browser.find_element_by_id('email') \n",
    "\texcept NoSuchElementException:\n",
    "\t\tbreak\n",
    "\tprint('Password wrong, try again!')\n",
    "\tcontinue"
   ]
  },
  {
   "cell_type": "code",
   "execution_count": null,
   "metadata": {},
   "outputs": [],
   "source": [
    "\"\"\"friend_name_box = browser.find_element_by_class_name('_58al')\n",
    "friend_name_box.click()\n",
    "time.sleep(3)\n",
    "friend_name_box.send_keys(' ')\n",
    "friend_name_box.send_keys(Keys.RETURN)\n",
    "#friend_name = str(input(\"Please enter the name of the friend you want to message: \"))\n",
    "#friend_name_box.send_keys(friend_name)\n",
    "friend_name_box.send_keys('Moritz Gruber')\n",
    "friend_name_box.click()\n",
    "\n",
    "time.sleep(3)\n",
    "friend_name_box.send_keys(' ')\n",
    "friend_name_box.send_keys(Keys.RETURN)\n",
    "\n",
    "\"\"\""
   ]
  },
  {
   "cell_type": "code",
   "execution_count": 2,
   "metadata": {},
   "outputs": [],
   "source": [
    " # Open message field\n",
    "message_button = browser.find_element_by_id(\"u_0_d\")\n",
    "message_button.click()\n",
    "write_message_button = browser.find_element_by_id(\"u_0_e\")\n",
    "write_message_button.click()\n",
    "\n"
   ]
  },
  {
   "cell_type": "code",
   "execution_count": 3,
   "metadata": {},
   "outputs": [],
   "source": [
    "# Select friend\n",
    "path = browser.find_element_by_class_name('_3l9s')\n",
    "path.click()\n",
    "time.sleep(1)\n",
    "path2 = path.find_element_by_class_name('innerWrap')\n",
    "friend_name_box = path2.find_element_by_xpath(\"//input[@tabindex='0']\")\n",
    "time.sleep(1)\n",
    "#friend_name = str(input(\"Please enter the name of the friend you want to message: \"))\n",
    "#friend_name_box.send_keys(friend_name)\n",
    "friend_name_box.send_keys('Jannis')\n",
    "time.sleep(2)\n",
    "friend_name_box.send_keys(Keys.RETURN)"
   ]
  },
  {
   "cell_type": "code",
   "execution_count": null,
   "metadata": {},
   "outputs": [],
   "source": [
    "# Select text field\n",
    "root_textbox = browser.find_element_by_class_name('_5rpb')\n",
    "root_textbox.click()\n",
    "time.sleep(1)\n",
    "sub_path = \"//div[@role='combobox']\"\n",
    "#//div[@data-contents='true']//div[@data-block='true']//div[@class='_1mf _1mj']\"\n",
    "#sub_path += \"//span[@data-offset-key='5s5s6-0-0']//span[@data-text='true']\"\n",
    "\n",
    "path_textbox = root_textbox.find_element_by_xpath(sub_path)\n",
    "path_textbox.click()\n",
    "time.sleep(2)\n",
    "path_textbox.send_keys('TEST')\n",
    "time.sleep(1)\n",
    "path_textbox.send_keys(Keys.RETURN)\n",
    "\n",
    "\"\"\"\n",
    "textbox_key = path_textbox.get_attribute(\"data-offset-key\")\n",
    "print(textbox_key)\n",
    "path2_textbox = path_textbox.find_element_by_xpath(\"//span[@data-offset-key='\"+textbox_key+\"']\")\n",
    "time.sleep(1)\n",
    "textbox = path2_textbox.find_element_by_xpath(\"//br[@data-text='true']\")\n",
    "\n",
    "textbox.send_keys('TEST')\n",
    "textbox.send_keys(Keys.RETURN)\n",
    "#textbox = path_textbox.find_element_by_class_name('_1mf _1mj')\n",
    "\"\"\"\n"
   ]
  },
  {
   "cell_type": "code",
   "execution_count": null,
   "metadata": {},
   "outputs": [],
   "source": []
  },
  {
   "cell_type": "code",
   "execution_count": null,
   "metadata": {},
   "outputs": [],
   "source": [
    "path = \"//body[@dir='ltr']//div[@id='pagelet_dock']//div[@id='u_0_2c']\"\n",
    "path += \"//div[@class='fbDock clearfix']//div[@class='clearfix nubContainer rNubContainer']\"\n",
    "#path += \"//div[@id='ChatTabsPagelet']//div[@id='u_0_26']\"\n",
    "#path += \"//div[@class='fbNubGroup clearfix _56oy _20fw _3__- _4ml1']\"\n",
    "#path += \"//div[@id='u_0_27']//div[@class='_59v1']//div[@class='_5qi9 _5qib']\"\n",
    "#path += \"\"\"//div[@data-ft='{\"tn\":\"+M\"}']//div[@role='complementary']//div[@class='fbNubFlyoutOuter']\"\"\"\n",
    "#path += \"//div[@class='fbNubFlyoutInner']//div[@id='js_55']//div[@class='_1sk5']//div[@class='_1sk6']\"\n",
    "#path += \"//div[@class='_3l9n']//div[@class='_3l9s']\"\n",
    "print(path)\n",
    "#root = browser.find_element_by_xpath(path)\n",
    "\n",
    "root2 = browser.find_element_by_class_name('uiTypeahead')\n",
    "box = root2.find_element_by_xpath(\"//div[@class='wrap']//div[@class='innerWrap']//input[@type='text']\")\n",
    "box.click()\n",
    "box.send_keys('Moritz')\n",
    "box.send_keys(Keys.RETURN)\n",
    "#print(root2.location)\n",
    "#print(root2.parent)\n",
    "#root3.click()\n",
    "#print(root.rect)\n",
    "#print(help(root))\n",
    "\n",
    "#recipient_field = browser.find_element_by_css_selector(\"_li\")\n"
   ]
  },
  {
   "cell_type": "code",
   "execution_count": null,
   "metadata": {},
   "outputs": [],
   "source": [
    "search_mask = browser.find_elements_by_class_name('_58ak')\n",
    "#search_mask = browser.find_elements_by_class_name('_58al')\n",
    "friend_name = str(input(\"Please enter the name of the friend you want to write: \"))\n",
    "search_mask.send_keys(friend_name)\n",
    "time.sleep(3)\n",
    "\n",
    "text_field = browser.find_elements_by_class_name('_1mf _1mj')\n",
    "text = str(input(\"Please enter the message to your friend: \"))\n",
    "\n",
    "text_field.send_keys(text)\n",
    "\n"
   ]
  },
  {
   "cell_type": "code",
   "execution_count": null,
   "metadata": {},
   "outputs": [],
   "source": []
  },
  {
   "cell_type": "code",
   "execution_count": null,
   "metadata": {},
   "outputs": [],
   "source": []
  }
 ],
 "metadata": {
  "kernelspec": {
   "display_name": "Python 3",
   "language": "python",
   "name": "python3"
  },
  "language_info": {
   "codemirror_mode": {
    "name": "ipython",
    "version": 3
   },
   "file_extension": ".py",
   "mimetype": "text/x-python",
   "name": "python",
   "nbconvert_exporter": "python",
   "pygments_lexer": "ipython3",
   "version": "3.6.4"
  }
 },
 "nbformat": 4,
 "nbformat_minor": 2
}
